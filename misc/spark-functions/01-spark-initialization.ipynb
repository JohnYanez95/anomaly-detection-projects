{
 "cells": [
  {
   "cell_type": "code",
   "execution_count": 4,
   "id": "abb8204f",
   "metadata": {},
   "outputs": [],
   "source": [
    "import findspark\n",
    "findspark.init()\n",
    "# from sparkmagic.sparkmanager import SparkManager\n",
    "from pyspark.sql import SparkSession\n",
    "\n",
    "memory = \"16g\"\n",
    "cores = 12\n",
    "quantityOfExecutors = 4\n",
    "\n",
    "spark = SparkSession.builder \\\n",
    "        .master(\"local[*]\") \\\n",
    "        .config(\"spark.driver.memory\", memory) \\\n",
    "        .config(\"spark.executor.memory\", f\"{int(memory[:-1])//quantityOfExecutors}g\") \\\n",
    "        .config(\"spark.executor.instances\", quantityOfExecutors) \\\n",
    "        .config(\"spark.executor.cores\", cores//quantityOfExecutors) \\\n",
    "        .getOrCreate()\n",
    "\n",
    "# spark = SparkSession.builder.getOrCreate()\n",
    "\n",
    "# spark_manager = SparkManager.instance()\n",
    "# spark_manager.add_session({\"kind\": \"pyspark\", \"session\": spark})"
   ]
  }
 ],
 "metadata": {
  "kernelspec": {
   "display_name": "Python 3 (ipykernel)",
   "language": "python",
   "name": "python3"
  },
  "language_info": {
   "codemirror_mode": {
    "name": "ipython",
    "version": 3
   },
   "file_extension": ".py",
   "mimetype": "text/x-python",
   "name": "python",
   "nbconvert_exporter": "python",
   "pygments_lexer": "ipython3",
   "version": "3.9.7"
  }
 },
 "nbformat": 4,
 "nbformat_minor": 5
}
