{
 "cells": [
  {
   "cell_type": "code",
   "execution_count": null,
   "id": "87558f14",
   "metadata": {},
   "outputs": [],
   "source": [
    "import matplotlib.pyplot as plt\n",
    "def constructSubplots(quantityOfPlots : int,\n",
    "                      ncols           : int = 4\n",
    "                     )->None:\n",
    "    if quantityOfPlots<=0:\n",
    "        raise NameError('The quantityOfPlots value must exceed 0!')\n",
    "    nrows = quantityOfPlots//ncols\n",
    "    \"\"\" Adds extra row  \"\"\"\n",
    "    if quantityOfPlots%ncols!=0: \n",
    "        nrows += 1\n",
    "        \n",
    "    \n",
    "    fig,ax = plt.subplots(figsize=(8*ncols,4*nrows),ncols=ncols,nrows=nrows)\n",
    "    ax = ax.flatten()\n",
    "    return ax"
   ]
  }
 ],
 "metadata": {
  "kernelspec": {
   "display_name": "Python 3 (ipykernel)",
   "language": "python",
   "name": "python3"
  },
  "language_info": {
   "codemirror_mode": {
    "name": "ipython",
    "version": 3
   },
   "file_extension": ".py",
   "mimetype": "text/x-python",
   "name": "python",
   "nbconvert_exporter": "python",
   "pygments_lexer": "ipython3",
   "version": "3.9.7"
  }
 },
 "nbformat": 4,
 "nbformat_minor": 5
}
