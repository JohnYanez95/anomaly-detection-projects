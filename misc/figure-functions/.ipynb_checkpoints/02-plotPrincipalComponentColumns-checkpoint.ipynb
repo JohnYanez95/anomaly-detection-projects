{
 "cells": [
  {
   "cell_type": "code",
   "execution_count": null,
   "id": "96b47ee5",
   "metadata": {},
   "outputs": [],
   "source": [
    "%run G:/Programs/Python/anomaly-detection-projects/misc/figure-functions/01-constructSubplots.ipynb"
   ]
  },
  {
   "cell_type": "code",
   "execution_count": null,
   "id": "29cf1316",
   "metadata": {},
   "outputs": [],
   "source": [
    "import pandas as pd\n",
    "def plotPrincipalComponentColumns(df_pd : pd.DataFrame)->None:\n",
    "    principalComponentColumns = list(filter(lambda row: 'V' in row,df_pd.columns.to_list()))\n",
    "    ax = constructSubplots(quantityOfPlots = len(principalComponentColumns),\n",
    "                           ncols           = 4\n",
    "                          )\n",
    "    for i,col in enumerate(principalComponentColumns):\n",
    "        ax[i].hist(df_pd[col])\n",
    "        ax[i].set_title(col)\n",
    "    plt.suptitle('Principal Components of Credit Card Fraud Detection Dataset',y=1.01,fontsize=16)\n",
    "    plt.tight_layout()\n",
    "    plt.show()"
   ]
  }
 ],
 "metadata": {
  "kernelspec": {
   "display_name": "Python 3 (ipykernel)",
   "language": "python",
   "name": "python3"
  },
  "language_info": {
   "codemirror_mode": {
    "name": "ipython",
    "version": 3
   },
   "file_extension": ".py",
   "mimetype": "text/x-python",
   "name": "python",
   "nbconvert_exporter": "python",
   "pygments_lexer": "ipython3",
   "version": "3.9.7"
  }
 },
 "nbformat": 4,
 "nbformat_minor": 5
}
